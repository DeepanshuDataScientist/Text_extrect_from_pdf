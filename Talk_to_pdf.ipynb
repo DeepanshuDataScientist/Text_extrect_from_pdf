{
 "cells": [
  {
   "cell_type": "code",
   "execution_count": 1,
   "id": "67c2a117",
   "metadata": {},
   "outputs": [],
   "source": [
    "# Import necessary libraries\n",
    "import os\n",
    "import io\n",
    "import asyncio\n",
    "import nest_asyncio\n",
    "from PyPDF2 import PdfReader\n",
    "from langchain.text_splitter import RecursiveCharacterTextSplitter\n",
    "from langchain_google_genai import GoogleGenerativeAIEmbeddings\n",
    "from langchain.chains.question_answering import load_qa_chain\n",
    "from langchain.prompts import PromptTemplate\n",
    "import google.generativeai as genai\n",
    "from langchain.vectorstores import FAISS\n",
    "from langchain_google_genai import ChatGoogleGenerativeAI\n",
    "from dotenv import load_dotenv\n",
    "import ipywidgets as widgets\n",
    "from IPython.display import display"
   ]
  },
  {
   "cell_type": "code",
   "execution_count": 2,
   "id": "fcf6b736",
   "metadata": {},
   "outputs": [],
   "source": [
    "# Load environment variables\n",
    "load_dotenv()\n",
    "google_api_key = os.getenv(\"GOOGLE_API_KEY\")\n",
    "genai.configure(api_key=google_api_key)"
   ]
  },
  {
   "cell_type": "code",
   "execution_count": 3,
   "id": "ec27a992",
   "metadata": {},
   "outputs": [],
   "source": [
    "# Function to extract text from PDF files\n",
    "def get_pdf_text(pdf_docs):\n",
    "    text = \"\"\n",
    "    for pdf in pdf_docs:\n",
    "        pdf_reader = PdfReader(pdf)\n",
    "        for page in pdf_reader.pages:\n",
    "            text += page.extract_text()\n",
    "    return text\n"
   ]
  },
  {
   "cell_type": "code",
   "execution_count": 4,
   "id": "9e6210de",
   "metadata": {},
   "outputs": [],
   "source": [
    "# Function to split text into chunks\n",
    "def get_text_chunks(text):\n",
    "    text_splitter = RecursiveCharacterTextSplitter(chunk_size=10000, chunk_overlap=1000)\n",
    "    chunks = text_splitter.split_text(text)\n",
    "    return chunks"
   ]
  },
  {
   "cell_type": "code",
   "execution_count": 5,
   "id": "3cd8fe65",
   "metadata": {},
   "outputs": [],
   "source": [
    "# Function to create and save vector store\n",
    "def get_vector_store(text_chunks):\n",
    "    embeddings = GoogleGenerativeAIEmbeddings(model=\"models/embedding-001\")\n",
    "    vector_store = FAISS.from_texts(text_chunks, embedding=embeddings)\n",
    "    vector_store.save_local(\"faiss_index\")"
   ]
  },
  {
   "cell_type": "code",
   "execution_count": 6,
   "id": "ef660f3d",
   "metadata": {},
   "outputs": [],
   "source": [
    "# Function to create a conversational chain\n",
    "def get_conversational_chain():\n",
    "    prompt_template = \"\"\"\n",
    "    Answer the question as detailed as possible from the provided context, make sure to provide all the details, if the answer is not in\n",
    "    provided context just say, \"answer is not available in the context\", don't provide the wrong answer\\n\\n\n",
    "    Context:\\n {context}?\\n\n",
    "    Question: \\n{question}\\n\n",
    "\n",
    "    Answer:\n",
    "    \"\"\"\n",
    "    model = ChatGoogleGenerativeAI(model=\"gemini-pro\", temperature=0.3)\n",
    "    prompt = PromptTemplate(template=prompt_template, input_variables=[\"context\", \"question\"])\n",
    "    chain = load_qa_chain(model, chain_type=\"stuff\", prompt=prompt)\n",
    "    return chain\n"
   ]
  },
  {
   "cell_type": "code",
   "execution_count": 7,
   "id": "f06e53ee",
   "metadata": {},
   "outputs": [],
   "source": [
    "# Async function to process user input and generate response\n",
    "async def async_user_input(user_question):\n",
    "    embeddings = GoogleGenerativeAIEmbeddings(model=\"models/embedding-001\")\n",
    "    new_db = FAISS.load_local(\"faiss_index\", embeddings, allow_dangerous_deserialization=True)\n",
    "    docs = new_db.similarity_search(user_question)\n",
    "    chain = get_conversational_chain()\n",
    "    response = chain({\"input_documents\": docs, \"question\": user_question}, return_only_outputs=True)\n",
    "    return response[\"output_text\"]\n"
   ]
  },
  {
   "cell_type": "code",
   "execution_count": 8,
   "id": "9585e7cb",
   "metadata": {},
   "outputs": [],
   "source": [
    "# Function to handle user input and display response\n",
    "def user_input(user_question):\n",
    "    loop = asyncio.new_event_loop()\n",
    "    asyncio.set_event_loop(loop)\n",
    "    nest_asyncio.apply()\n",
    "    response = loop.run_until_complete(async_user_input(user_question))\n",
    "    return response\n"
   ]
  },
  {
   "cell_type": "code",
   "execution_count": 9,
   "id": "32d758c0",
   "metadata": {},
   "outputs": [],
   "source": [
    "# Widgets for file upload and user input\n",
    "pdf_uploader = widgets.FileUpload(accept=\".pdf\", multiple=True)\n",
    "question_input = widgets.Text(description=\"Question:\")\n",
    "output_area = widgets.Output()\n",
    "process_button = widgets.Button(description=\"Submit & Process\")\n",
    "ask_button = widgets.Button(description=\"Ask Question\")\n"
   ]
  },
  {
   "cell_type": "code",
   "execution_count": 10,
   "id": "5e7de754",
   "metadata": {},
   "outputs": [],
   "source": [
    "# Function to process PDFs and create vector store\n",
    "def process_pdfs(change):\n",
    "    with output_area:\n",
    "        output_area.clear_output()\n",
    "        files = pdf_uploader.value\n",
    "        pdf_docs = [io.BytesIO(file['content']) for file in files]\n",
    "        raw_text = get_pdf_text(pdf_docs)\n",
    "        text_chunks = get_text_chunks(raw_text)\n",
    "        get_vector_store(text_chunks)\n",
    "        print(\"Processing done.\")\n"
   ]
  },
  {
   "cell_type": "code",
   "execution_count": 11,
   "id": "12078d51",
   "metadata": {},
   "outputs": [],
   "source": [
    "# Function to handle question asking\n",
    "def ask_question(change):\n",
    "    with output_area:\n",
    "        output_area.clear_output()\n",
    "        user_question = question_input.value\n",
    "        if user_question:\n",
    "            response = user_input(user_question)\n",
    "            print(f\"Reply: {response}\")\n"
   ]
  },
  {
   "cell_type": "code",
   "execution_count": 12,
   "id": "691d3c16",
   "metadata": {},
   "outputs": [],
   "source": [
    "# Attach functions to buttons\n",
    "process_button.on_click(process_pdfs)\n",
    "ask_button.on_click(ask_question)"
   ]
  },
  {
   "cell_type": "code",
   "execution_count": 13,
   "id": "7e2adfc8",
   "metadata": {},
   "outputs": [
    {
     "data": {
      "application/vnd.jupyter.widget-view+json": {
       "model_id": "f591fad7b22e4d829496031d7d93de95",
       "version_major": 2,
       "version_minor": 0
      },
      "text/plain": [
       "VBox(children=(FileUpload(value=(), accept='.pdf', description='Upload', multiple=True), Button(description='S…"
      ]
     },
     "metadata": {},
     "output_type": "display_data"
    }
   ],
   "source": [
    "# Display widgets\n",
    "display(widgets.VBox([pdf_uploader, process_button, question_input, ask_button, output_area]))"
   ]
  }
 ],
 "metadata": {
  "kernelspec": {
   "display_name": "Python 3 (ipykernel)",
   "language": "python",
   "name": "python3"
  },
  "language_info": {
   "codemirror_mode": {
    "name": "ipython",
    "version": 3
   },
   "file_extension": ".py",
   "mimetype": "text/x-python",
   "name": "python",
   "nbconvert_exporter": "python",
   "pygments_lexer": "ipython3",
   "version": "3.11.4"
  }
 },
 "nbformat": 4,
 "nbformat_minor": 5
}
